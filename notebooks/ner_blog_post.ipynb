{
 "cells": [
  {
   "cell_type": "markdown",
   "metadata": {},
   "source": [
    "# EDA: Named Entity Recognition\n",
    "\n",
    "Named entity recognition is the process of identifing particular elements from text, such as names, places, quantities, percentages, times/dates, etc. Identifying and quantifying what the general content types an article contains seems like a good predictor of what type of article it is. World news articles, for example, might mention more places than opinion articles, and business articles might have more percentages or dates than other sections. For each article, I'll count how many total mentions of people or places there are in the titles, as well as how many unique mentions for article bodies.\n",
    "\n",
    "The Stanford NLP group has published three [Named-Entity Recognizers](http://nlp.stanford.edu/software/CRF-NER.shtml). The three class model recognizes locations, persons, and organizations, and at least for now, this is the one I'll be using. Although NER's are written in Java, there is the Pyner interface for Python, as well as an NLTK wrapper (which I'll be using).\n",
    "\n",
    "Although state-of-the-art taggers can achieve near-human levels of accuracy, this one does make a few mistakes. One obvious flaw is that if I feed the tagger unigram terms, two-part names such as \"Michael Jordan\" will count as (\"Michael\", \"PERSON\") and (\"Jordan\", \"PERSON\"). I can roughly correct for this by dividing my average name entity count by two if need be. Additionally, sometimes the tagger mis-tags certain people or places. For instance, it failed to recognize \"Cameroon\" as a location, but tagged the word \"Heartbreak\" in the article title \"A Personal Trainer for Heartbreak\" as a person. That being said, let's see what it can do on my news data."
   ]
  },
  {
   "cell_type": "code",
   "execution_count": 46,
   "metadata": {
    "collapsed": false
   },
   "outputs": [],
   "source": [
    "import articledata\n",
    "import pandas as pd\n",
    "import matplotlib.pyplot as plt\n",
    "import seaborn as sns\n",
    "import operator"
   ]
  },
  {
   "cell_type": "code",
   "execution_count": 13,
   "metadata": {
    "collapsed": false
   },
   "outputs": [],
   "source": [
    "data = pd.read_pickle('/Users/teresaborcuch/capstone_project/notebooks/pickled_data.pkl')"
   ]
  },
  {
   "cell_type": "markdown",
   "metadata": {},
   "source": [
    "## Counting Named Entities\n",
    "\n",
    "Here is my count_entities function. The idea is to count the total mentions of a person or a place in an article's body or title and save them as columns in my existing data structure."
   ]
  },
  {
   "cell_type": "code",
   "execution_count": null,
   "metadata": {
    "collapsed": true
   },
   "outputs": [],
   "source": [
    "def count_entities(data = None, title = True):\n",
    "    # set up tagger\n",
    "    os.environ['CLASSPATH'] = \"/Users/teresaborcuch/stanford-ner-2013-11-12/stanford-ner.jar\"\n",
    "    os.environ['STANFORD_MODELS'] = '/Users/teresaborcuch/stanford-ner-2013-11-12/classifiers'\n",
    "    st = StanfordNERTagger('english.all.3class.distsim.crf.ser.gz')\n",
    "\n",
    "    tagged_titles = []\n",
    "    persons = []\n",
    "    places = []\n",
    "\n",
    "    if title:\n",
    "\n",
    "        for x in data['title']:\n",
    "            tokens = word_tokenize(x)\n",
    "            tags = st.tag(tokens)\n",
    "            tagged_titles.append(tags)\n",
    "\n",
    "        for pair_list in tagged_titles:\n",
    "            person_count = 0\n",
    "            place_count = 0\n",
    "            for pair in pair_list:\n",
    "                if pair[1] == 'PERSON':\n",
    "                    person_count +=1\n",
    "                elif pair[1] == 'LOCATION':\n",
    "                    place_count +=1\n",
    "                else:\n",
    "                    continue\n",
    "            persons.append(person_count)\n",
    "            places.append(place_count)\n",
    "\n",
    "\n",
    "        data['total_persons_title'] = persons\n",
    "        data['total_places_title'] = places\n",
    "\n",
    "    else:\n",
    "        for x in data['body']:\n",
    "            tokens = word_tokenize(x)\n",
    "            tags = st.tag(tokens)\n",
    "            tagged_titles.append(tags)\n",
    "\n",
    "        for pair_list in tagged_titles:\n",
    "            person_count = 0\n",
    "            place_count = 0\n",
    "            for pair in pair_list:\n",
    "                if pair[1] == 'PERSON':\n",
    "                    person_count +=1\n",
    "                elif pair[1] == 'LOCATION':\n",
    "                    place_count +=1\n",
    "                else:\n",
    "                    continue\n",
    "            persons.append(person_count)\n",
    "            places.append(place_count)\n",
    "\n",
    "        data['total_persons_body'] = persons\n",
    "        data['total_places_body'] = places\n",
    "\n",
    "    return data"
   ]
  },
  {
   "cell_type": "code",
   "execution_count": 14,
   "metadata": {
    "collapsed": false
   },
   "outputs": [],
   "source": [
    "# Count people and places in article titles and save as new columns\n",
    "# Warning - this is super slow! \n",
    "data = articledata.count_entities(data = data, title = True)"
   ]
  },
  {
   "cell_type": "code",
   "execution_count": 17,
   "metadata": {
    "collapsed": false
   },
   "outputs": [
    {
     "data": {
      "text/html": [
       "<div>\n",
       "<table border=\"1\" class=\"dataframe\">\n",
       "  <thead>\n",
       "    <tr style=\"text-align: right;\">\n",
       "      <th></th>\n",
       "      <th>title</th>\n",
       "      <th>date</th>\n",
       "      <th>body</th>\n",
       "      <th>section</th>\n",
       "      <th>source</th>\n",
       "      <th>condensed_section</th>\n",
       "      <th>SA_body</th>\n",
       "      <th>SA_title</th>\n",
       "      <th>SA_diff</th>\n",
       "      <th>total_persons_title</th>\n",
       "      <th>total_places_title</th>\n",
       "    </tr>\n",
       "  </thead>\n",
       "  <tbody>\n",
       "    <tr>\n",
       "      <th>0</th>\n",
       "      <td>$5 Million for a Super Bowl Ad. Another Millio...</td>\n",
       "      <td>2017-01-29</td>\n",
       "      <td>This month, Anheuser-Busch InBev hosted a doze...</td>\n",
       "      <td>business</td>\n",
       "      <td>NYT</td>\n",
       "      <td>business</td>\n",
       "      <td>0.01624</td>\n",
       "      <td>-0.023148</td>\n",
       "      <td>0.039388</td>\n",
       "      <td>0</td>\n",
       "      <td>0</td>\n",
       "    </tr>\n",
       "  </tbody>\n",
       "</table>\n",
       "</div>"
      ],
      "text/plain": [
       "                                               title       date  \\\n",
       "0  $5 Million for a Super Bowl Ad. Another Millio... 2017-01-29   \n",
       "\n",
       "                                                body   section source  \\\n",
       "0  This month, Anheuser-Busch InBev hosted a doze...  business    NYT   \n",
       "\n",
       "  condensed_section  SA_body  SA_title   SA_diff  total_persons_title  \\\n",
       "0          business  0.01624 -0.023148  0.039388                    0   \n",
       "\n",
       "   total_places_title  \n",
       "0                   0  "
      ]
     },
     "execution_count": 17,
     "metadata": {},
     "output_type": "execute_result"
    }
   ],
   "source": [
    "data.head(1)"
   ]
  },
  {
   "cell_type": "code",
   "execution_count": 18,
   "metadata": {
    "collapsed": true
   },
   "outputs": [],
   "source": [
    "# pickle the file to avoid having to re-run this for future analyses\n",
    "data.to_pickle('/Users/teresaborcuch/capstone_project/notebooks/ss_entity_data.pkl')"
   ]
  },
  {
   "cell_type": "code",
   "execution_count": 42,
   "metadata": {
    "collapsed": false
   },
   "outputs": [
    {
     "data": {
      "image/png": "[encoded data removed]",
      "text/plain": [
       "<matplotlib.figure.Figure at 0x11e7849d0>"
      ]
     },
     "metadata": {},
     "output_type": "display_data"
    }
   ],
   "source": [
    "sns.set_style(\"whitegrid\", {'axes.grid' : False})\n",
    "fig = plt.figure(figsize = (12, 5))\n",
    "\n",
    "ax1 = fig.add_subplot(1,2,1)\n",
    "ax1.hist(data['total_persons_title'])\n",
    "ax1.set_xlabel(\"Total Person Count in Article Titles \")\n",
    "ax1.set_ylim(0,2500)\n",
    "ax1.set_xlim(0,6)\n",
    "\n",
    "ax2 = fig.add_subplot(1,2,2)\n",
    "ax2.hist(data['total_places_title'])\n",
    "ax2.set_xlabel(\"Total Place Count in Article Titles\")\n",
    "ax2.set_ylim(0, 2500)\n",
    "ax2.set_xlim(0,6)\n",
    "plt.show()"
   ]
  },
  {
   "cell_type": "markdown",
   "metadata": {},
   "source": [
    "These graphs indicate that person and place counts from article are both strongly right skewed. It might be more interesting to compare mean person and place counts among different sections."
   ]
  },
  {
   "cell_type": "code",
   "execution_count": 45,
   "metadata": {
    "collapsed": false
   },
   "outputs": [
    {
     "data": {
      "text/html": [
       "<div>\n",
       "<table border=\"1\" class=\"dataframe\">\n",
       "  <thead>\n",
       "    <tr style=\"text-align: right;\">\n",
       "      <th></th>\n",
       "      <th>total_persons_title</th>\n",
       "      <th>total_places_title</th>\n",
       "    </tr>\n",
       "    <tr>\n",
       "      <th>condensed_section</th>\n",
       "      <th></th>\n",
       "      <th></th>\n",
       "    </tr>\n",
       "  </thead>\n",
       "  <tbody>\n",
       "    <tr>\n",
       "      <th>entertainment</th>\n",
       "      <td>0.981636</td>\n",
       "      <td>0.131886</td>\n",
       "    </tr>\n",
       "    <tr>\n",
       "      <th>sports</th>\n",
       "      <td>0.913793</td>\n",
       "      <td>0.254310</td>\n",
       "    </tr>\n",
       "    <tr>\n",
       "      <th>other</th>\n",
       "      <td>0.651741</td>\n",
       "      <td>0.164179</td>\n",
       "    </tr>\n",
       "    <tr>\n",
       "      <th>education</th>\n",
       "      <td>0.615385</td>\n",
       "      <td>0.269231</td>\n",
       "    </tr>\n",
       "    <tr>\n",
       "      <th>politics</th>\n",
       "      <td>0.573864</td>\n",
       "      <td>0.269886</td>\n",
       "    </tr>\n",
       "    <tr>\n",
       "      <th>opinion</th>\n",
       "      <td>0.523923</td>\n",
       "      <td>0.165072</td>\n",
       "    </tr>\n",
       "    <tr>\n",
       "      <th>world</th>\n",
       "      <td>0.376874</td>\n",
       "      <td>0.638116</td>\n",
       "    </tr>\n",
       "    <tr>\n",
       "      <th>business</th>\n",
       "      <td>0.339806</td>\n",
       "      <td>0.291262</td>\n",
       "    </tr>\n",
       "    <tr>\n",
       "      <th>technology</th>\n",
       "      <td>0.242424</td>\n",
       "      <td>0.111111</td>\n",
       "    </tr>\n",
       "    <tr>\n",
       "      <th>sci_health</th>\n",
       "      <td>0.134199</td>\n",
       "      <td>0.173160</td>\n",
       "    </tr>\n",
       "  </tbody>\n",
       "</table>\n",
       "</div>"
      ],
      "text/plain": [
       "                   total_persons_title  total_places_title\n",
       "condensed_section                                         \n",
       "entertainment                 0.981636            0.131886\n",
       "sports                        0.913793            0.254310\n",
       "other                         0.651741            0.164179\n",
       "education                     0.615385            0.269231\n",
       "politics                      0.573864            0.269886\n",
       "opinion                       0.523923            0.165072\n",
       "world                         0.376874            0.638116\n",
       "business                      0.339806            0.291262\n",
       "technology                    0.242424            0.111111\n",
       "sci_health                    0.134199            0.173160"
      ]
     },
     "execution_count": 45,
     "metadata": {},
     "output_type": "execute_result"
    }
   ],
   "source": [
    "data.pivot_table(\n",
    "    index = ['condensed_section'], \n",
    "    values = ['total_persons_title', 'total_places_title']).sort_values('total_persons_title', ascending = False)"
   ]
  },
  {
   "cell_type": "markdown",
   "metadata": {},
   "source": [
    "From this pivot table, it seems there are a few distinctions to be made between different sections. Entertainment and sports contain more person mentions on average than any other sections, and world news contains more places in the title than other sections."
   ]
  },
  {
   "cell_type": "markdown",
   "metadata": {},
   "source": [
    "## Finding Common Named Entities\n",
    "\n",
    "Now, I'll try to see which people are places get the most mentions in each section. I've written an evaluate_entities function that creates a dictionary of counts for each unique person or place in a particular section or for a particular source."
   ]
  },
  {
   "cell_type": "code",
   "execution_count": null,
   "metadata": {
    "collapsed": true
   },
   "outputs": [],
   "source": [
    "def evaluate_entities(data = None, section = None, source = None):\n",
    "    section_mask = (data['condensed_section'] == section)\n",
    "    source_mask = (data['source'] == source)\n",
    "\n",
    "    if section and source:\n",
    "        masked_data = data[section_mask & source_mask]\n",
    "\n",
    "    elif section:\n",
    "        masked_data = data[section_mask]\n",
    "\n",
    "    elif source:\n",
    "        masked_data = data[source_mask]\n",
    "\n",
    "    else:\n",
    "        masked_data = data\n",
    "\n",
    "    # set up tagger\n",
    "    os.environ['CLASSPATH'] = \"/Users/teresaborcuch/stanford-ner-2013-11-12/stanford-ner.jar\"\n",
    "    os.environ['STANFORD_MODELS'] = '/Users/teresaborcuch/stanford-ner-2013-11-12/classifiers'\n",
    "    st = StanfordNERTagger('english.all.3class.distsim.crf.ser.gz')\n",
    "    \n",
    "    # dictionaries to hold counts of entities\n",
    "    person_dict = {}\n",
    "    place_dict = {}\n",
    "\n",
    "    for x in masked_data['body']:\n",
    "        tokens = word_tokenize(x)\n",
    "        tags = st.tag(tokens)\n",
    "        for pair in tags:\n",
    "            if pair[1] == 'PERSON':\n",
    "                if pair[0] not in person_dict.keys():\n",
    "                    person_dict[pair[0]] = 1\n",
    "                else:\n",
    "                    person_dict[pair[0]] +=1\n",
    "            elif pair[1] == 'LOCATION':\n",
    "                if pair[0] not in place_dict.keys():\n",
    "                    place_dict[pair[0]] = 1\n",
    "                else:\n",
    "                    place_dict[pair[0]] += 1\n",
    "\n",
    "    return person_dict, place_dict"
   ]
  },
  {
   "cell_type": "markdown",
   "metadata": {},
   "source": [
    "### Commonly Mentioned People in World News and Entertainment"
   ]
  },
  {
   "cell_type": "code",
   "execution_count": 19,
   "metadata": {
    "collapsed": false
   },
   "outputs": [],
   "source": [
    "world_persons, world_places = articledata.evaluate_entities(data = data, section = 'world', source = None)"
   ]
  },
  {
   "cell_type": "code",
   "execution_count": 47,
   "metadata": {
    "collapsed": false,
    "scrolled": false
   },
   "outputs": [
    {
     "data": {
      "text/plain": [
       "[(u'Trump', 1237),\n",
       " (u'Obama', 181),\n",
       " (u'Putin', 98),\n",
       " (u'Netanyahu', 97),\n",
       " (u'Mattis', 79),\n",
       " (u'Bannon', 75),\n",
       " (u'Flynn', 74),\n",
       " (u'Erdogan', 72),\n",
       " (u'Merkel', 72),\n",
       " (u'Donald', 66),\n",
       " (u'Fillon', 64),\n",
       " (u'Le', 63),\n",
       " (u'Al', 62),\n",
       " (u'Barack', 60),\n",
       " (u'Evola', 60),\n",
       " (u'John', 56),\n",
       " (u'Qaeda', 56),\n",
       " (u'Abe', 55),\n",
       " (u'Pen', 51),\n",
       " (u'Trudeau', 47)]"
      ]
     },
     "execution_count": 47,
     "metadata": {},
     "output_type": "execute_result"
    }
   ],
   "source": [
    "# get top 20 people from world news article bodies\n",
    "sorted_wp = sorted(world_persons.items(), key=operator.itemgetter(1))\n",
    "sorted_wp.reverse()\n",
    "sorted_wp[:20]"
   ]
  },
  {
   "cell_type": "markdown",
   "metadata": {},
   "source": [
    "Perhaps as expected, Trump is the most commonly mentioned person in world news, with 1,237 mentions in 467 articles, with Obama and Putin coming in second and third. It's interesting to note that most of these names are political figures, but since the tagger only receives unigrams, partial names and first names are mentioned as well."
   ]
  },
  {
   "cell_type": "code",
   "execution_count": 20,
   "metadata": {
    "collapsed": false
   },
   "outputs": [],
   "source": [
    "entertainment_persons, entertainment_places = articledata.evaluate_entities(data = data, section = 'entertainment', source = None)"
   ]
  },
  {
   "cell_type": "code",
   "execution_count": 34,
   "metadata": {
    "collapsed": false
   },
   "outputs": [
    {
     "data": {
      "text/plain": [
       "[(u'Trump', 287),\n",
       " (u'David', 151),\n",
       " (u'John', 109),\n",
       " (u'James', 86),\n",
       " (u'George', 82),\n",
       " (u'Stewart', 74),\n",
       " (u'Thomas', 67),\n",
       " (u'Robert', 61),\n",
       " (u'Donald', 60),\n",
       " (u'Michael', 57),\n",
       " (u'Smith', 55),\n",
       " (u'Peter', 51),\n",
       " (u'Meyers', 51),\n",
       " (u'Noah', 48),\n",
       " (u'Scott', 48),\n",
       " (u'Richard', 45),\n",
       " (u'de', 43),\n",
       " (u'Tom', 42),\n",
       " (u'Ivanka', 42),\n",
       " (u'Martin', 40)]"
      ]
     },
     "execution_count": 34,
     "metadata": {},
     "output_type": "execute_result"
    }
   ],
   "source": [
    "sorted_ep = sorted(entertainment_persons.items(), key=operator.itemgetter(1))\n",
    "sorted_ep.reverse()\n",
    "sorted_ep[:20]"
   ]
  },
  {
   "cell_type": "markdown",
   "metadata": {},
   "source": [
    "Now, I'll compare the top 20 people mentioned in entertainment articles. Trump still takes the number one spot, but interestingly, he's followed by a string of first names. NLTK provides a corpus of male and female-tagged first names, so counting the number of informal mentions or even the ratio of men to women might be a useful feature for classifying articles."
   ]
  },
  {
   "cell_type": "markdown",
   "metadata": {},
   "source": [
    "### Commonly Mentioned Places in World News and Entertainment\n",
    "\n",
    "Compared to those from the world news section, the locations in the entertainment section are mostly in the United States: New York City (pieced together from \"New\", \"York\", and \"City\") seems to be the most common, but Los Angeles, Manhattan, and Chicago also appear. There are a few international destinations (fashionable ones like London and Paris and their respective countries), but nowhere near as many as in the world news section, where, after the U.S, Iran, China, and Russia take the top spots."
   ]
  },
  {
   "cell_type": "code",
   "execution_count": 51,
   "metadata": {
    "collapsed": false
   },
   "outputs": [
    {
     "data": {
      "text/plain": [
       "[(u'United', 764),\n",
       " (u'States', 699),\n",
       " (u'U.S.', 426),\n",
       " (u'Iran', 324),\n",
       " (u'China', 260),\n",
       " (u'Russia', 214),\n",
       " (u'Syria', 199),\n",
       " (u'Israel', 194),\n",
       " (u'Washington', 173),\n",
       " (u'Turkey', 167),\n",
       " (u'Iraq', 144),\n",
       " (u'France', 138),\n",
       " (u'Europe', 133),\n",
       " (u'West', 115),\n",
       " (u'Germany', 113),\n",
       " (u'Britain', 110),\n",
       " (u'South', 104),\n",
       " (u'Yemen', 104),\n",
       " (u'Mexico', 103),\n",
       " (u'Bank', 102)]"
      ]
     },
     "execution_count": 51,
     "metadata": {},
     "output_type": "execute_result"
    }
   ],
   "source": [
    "# get top 20 places from world news article bodies\n",
    "sorted_wp = sorted(world_places.items(), key=operator.itemgetter(1))\n",
    "sorted_wp.reverse()\n",
    "sorted_wp[:20]"
   ]
  },
  {
   "cell_type": "code",
   "execution_count": 52,
   "metadata": {
    "collapsed": false
   },
   "outputs": [
    {
     "data": {
      "text/plain": [
       "[(u'New', 283),\n",
       " (u'York', 251),\n",
       " (u'United', 127),\n",
       " (u'States', 113),\n",
       " (u'Washington', 108),\n",
       " (u'London', 85),\n",
       " (u'America', 84),\n",
       " (u'Los', 80),\n",
       " (u'Angeles', 79),\n",
       " (u'Paris', 79),\n",
       " (u'City', 62),\n",
       " (u'France', 44),\n",
       " (u'Manhattan', 43),\n",
       " (u'Chicago', 42),\n",
       " (u'San', 35),\n",
       " (u'Europe', 35),\n",
       " (u'West', 34),\n",
       " (u'California', 33),\n",
       " (u'England', 32),\n",
       " (u'Britain', 28)]"
      ]
     },
     "execution_count": 52,
     "metadata": {},
     "output_type": "execute_result"
    }
   ],
   "source": [
    "# get top 20 places from entertainment article bodies\n",
    "sorted_ep = sorted(entertainment_places.items(), key=operator.itemgetter(1))\n",
    "sorted_ep.reverse()\n",
    "sorted_ep[:20]"
   ]
  }
 ],
 "metadata": {
  "anaconda-cloud": {},
  "kernelspec": {
   "display_name": "Python [default]",
   "language": "python",
   "name": "python2"
  },
  "language_info": {
   "codemirror_mode": {
    "name": "ipython",
    "version": 2
   },
   "file_extension": ".py",
   "mimetype": "text/x-python",
   "name": "python",
   "nbconvert_exporter": "python",
   "pygments_lexer": "ipython2",
   "version": "2.7.12"
  }
 },
 "nbformat": 4,
 "nbformat_minor": 1
}

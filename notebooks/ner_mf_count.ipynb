{
 "cells": [
  {
   "cell_type": "code",
   "execution_count": 26,
   "metadata": {
    "collapsed": false
   },
   "outputs": [],
   "source": [
    "from articledata import *\n",
    "import pandas as pd\n",
    "import matplotlib.pyplot as plt\n",
    "import seaborn as sns\n",
    "from nltk.corpus import names\n",
    "from nltk.tag import StanfordNERTagger\n",
    "import os\n",
    "from nltk.tokenize import word_tokenize"
   ]
  },
  {
   "cell_type": "code",
   "execution_count": 8,
   "metadata": {
    "collapsed": false
   },
   "outputs": [],
   "source": [
    "data = pd.read_pickle('/Users/teresaborcuch/capstone_project/notebooks/ss_entity_data.pkl')"
   ]
  },
  {
   "cell_type": "code",
   "execution_count": 10,
   "metadata": {
    "collapsed": false
   },
   "outputs": [
    {
     "data": {
      "text/html": [
       "<div>\n",
       "<table border=\"1\" class=\"dataframe\">\n",
       "  <thead>\n",
       "    <tr style=\"text-align: right;\">\n",
       "      <th></th>\n",
       "      <th>title</th>\n",
       "      <th>date</th>\n",
       "      <th>body</th>\n",
       "      <th>section</th>\n",
       "      <th>source</th>\n",
       "      <th>condensed_section</th>\n",
       "      <th>SA_body</th>\n",
       "      <th>SA_title</th>\n",
       "      <th>SA_diff</th>\n",
       "      <th>total_persons_title</th>\n",
       "      <th>total_places_title</th>\n",
       "    </tr>\n",
       "  </thead>\n",
       "  <tbody>\n",
       "    <tr>\n",
       "      <th>0</th>\n",
       "      <td>$5 Million for a Super Bowl Ad. Another Millio...</td>\n",
       "      <td>2017-01-29</td>\n",
       "      <td>This month, Anheuser-Busch InBev hosted a doze...</td>\n",
       "      <td>business</td>\n",
       "      <td>NYT</td>\n",
       "      <td>business</td>\n",
       "      <td>0.01624</td>\n",
       "      <td>-0.023148</td>\n",
       "      <td>0.039388</td>\n",
       "      <td>0</td>\n",
       "      <td>0</td>\n",
       "    </tr>\n",
       "  </tbody>\n",
       "</table>\n",
       "</div>"
      ],
      "text/plain": [
       "                                               title       date  \\\n",
       "0  $5 Million for a Super Bowl Ad. Another Millio... 2017-01-29   \n",
       "\n",
       "                                                body   section source  \\\n",
       "0  This month, Anheuser-Busch InBev hosted a doze...  business    NYT   \n",
       "\n",
       "  condensed_section  SA_body  SA_title   SA_diff  total_persons_title  \\\n",
       "0          business  0.01624 -0.023148  0.039388                    0   \n",
       "\n",
       "   total_places_title  \n",
       "0                   0  "
      ]
     },
     "execution_count": 10,
     "metadata": {},
     "output_type": "execute_result"
    }
   ],
   "source": [
    "data.head(1)"
   ]
  },
  {
   "cell_type": "code",
   "execution_count": 11,
   "metadata": {
    "collapsed": false
   },
   "outputs": [],
   "source": [
    "labeled_names = ([(name, 'male') for name in names.words(\"male.txt\")] + [(name, 'female') for name in names.words('female.txt')])"
   ]
  },
  {
   "cell_type": "code",
   "execution_count": 19,
   "metadata": {
    "collapsed": false
   },
   "outputs": [],
   "source": [
    "male_names = names.words(\"male.txt\")\n",
    "female_names = names.words(\"female.txt\")"
   ]
  },
  {
   "cell_type": "code",
   "execution_count": 16,
   "metadata": {
    "collapsed": false
   },
   "outputs": [
    {
     "data": {
      "text/plain": [
       "[u'Aamir', u'Aaron', u'Abbey', u'Abbie', u'Abbot']"
      ]
     },
     "execution_count": 16,
     "metadata": {},
     "output_type": "execute_result"
    }
   ],
   "source": [
    "male_names[:5]"
   ]
  },
  {
   "cell_type": "code",
   "execution_count": 13,
   "metadata": {
    "collapsed": true
   },
   "outputs": [],
   "source": [
    "people, _ = evaluate_entities(data = data, section = 'politics', source = 'Fox')"
   ]
  },
  {
   "cell_type": "code",
   "execution_count": 18,
   "metadata": {
    "collapsed": false
   },
   "outputs": [
    {
     "name": "stdout",
     "output_type": "stream",
     "text": [
      "79\n"
     ]
    }
   ],
   "source": [
    "count = 0\n",
    "for person in people:\n",
    "    if person in male_names:\n",
    "        count +=1\n",
    "\n",
    "print count"
   ]
  },
  {
   "cell_type": "code",
   "execution_count": 20,
   "metadata": {
    "collapsed": false
   },
   "outputs": [
    {
     "name": "stdout",
     "output_type": "stream",
     "text": [
      "36\n"
     ]
    }
   ],
   "source": [
    "count = 0\n",
    "for person in people:\n",
    "    if person in female_names:\n",
    "        count +=1\n",
    "\n",
    "print count"
   ]
  },
  {
   "cell_type": "code",
   "execution_count": 31,
   "metadata": {
    "collapsed": false
   },
   "outputs": [],
   "source": [
    "male_counts = []\n",
    "female_counts = []\n",
    "os.environ['CLASSPATH'] = \"/Users/teresaborcuch/stanford-ner-2013-11-12/stanford-ner.jar\"\n",
    "os.environ['STANFORD_MODELS'] = '/Users/teresaborcuch/stanford-ner-2013-11-12/classifiers'\n",
    "st = StanfordNERTagger('english.all.3class.distsim.crf.ser.gz')\n",
    "for x in data['body']:\n",
    "    m_count = 0\n",
    "    f_count = 0\n",
    "    tokens = word_tokenize(x)\n",
    "    tags = st.tag(tokens)\n",
    "    for pair in tags:\n",
    "        if pair[1] == 'PERSON':\n",
    "            if pair[0] in male_names:\n",
    "                m_count += 1\n",
    "            elif pair[0] in female_names:\n",
    "                f_count += 1\n",
    "            else:\n",
    "                continue\n",
    "    male_counts.append(m_count)\n",
    "    female_counts.append(f_count)"
   ]
  },
  {
   "cell_type": "code",
   "execution_count": 33,
   "metadata": {
    "collapsed": false
   },
   "outputs": [],
   "source": [
    "data['f_count'] = female_counts\n",
    "data['m_count'] = male_counts"
   ]
  },
  {
   "cell_type": "code",
   "execution_count": 35,
   "metadata": {
    "collapsed": false
   },
   "outputs": [],
   "source": [
    "data.to_pickle('/Users/teresaborcuch/capstone_project/notebooks/ss_entity_data.pkl')"
   ]
  },
  {
   "cell_type": "code",
   "execution_count": 37,
   "metadata": {
    "collapsed": false
   },
   "outputs": [
    {
     "data": {
      "text/html": [
       "<div>\n",
       "<table border=\"1\" class=\"dataframe\">\n",
       "  <thead>\n",
       "    <tr style=\"text-align: right;\">\n",
       "      <th></th>\n",
       "      <th>title</th>\n",
       "      <th>date</th>\n",
       "      <th>body</th>\n",
       "      <th>section</th>\n",
       "      <th>source</th>\n",
       "      <th>condensed_section</th>\n",
       "      <th>SA_body</th>\n",
       "      <th>SA_title</th>\n",
       "      <th>SA_diff</th>\n",
       "      <th>total_persons_title</th>\n",
       "      <th>total_places_title</th>\n",
       "      <th>f_count</th>\n",
       "      <th>m_count</th>\n",
       "    </tr>\n",
       "  </thead>\n",
       "  <tbody>\n",
       "    <tr>\n",
       "      <th>0</th>\n",
       "      <td>$5 Million for a Super Bowl Ad. Another Millio...</td>\n",
       "      <td>2017-01-29</td>\n",
       "      <td>This month, Anheuser-Busch InBev hosted a doze...</td>\n",
       "      <td>business</td>\n",
       "      <td>NYT</td>\n",
       "      <td>business</td>\n",
       "      <td>0.01624</td>\n",
       "      <td>-0.023148</td>\n",
       "      <td>0.039388</td>\n",
       "      <td>0</td>\n",
       "      <td>0</td>\n",
       "      <td>4</td>\n",
       "      <td>5</td>\n",
       "    </tr>\n",
       "  </tbody>\n",
       "</table>\n",
       "</div>"
      ],
      "text/plain": [
       "                                               title       date  \\\n",
       "0  $5 Million for a Super Bowl Ad. Another Millio... 2017-01-29   \n",
       "\n",
       "                                                body   section source  \\\n",
       "0  This month, Anheuser-Busch InBev hosted a doze...  business    NYT   \n",
       "\n",
       "  condensed_section  SA_body  SA_title   SA_diff  total_persons_title  \\\n",
       "0          business  0.01624 -0.023148  0.039388                    0   \n",
       "\n",
       "   total_places_title  f_count  m_count  \n",
       "0                   0        4        5  "
      ]
     },
     "execution_count": 37,
     "metadata": {},
     "output_type": "execute_result"
    }
   ],
   "source": [
    "data.head(1)"
   ]
  },
  {
   "cell_type": "code",
   "execution_count": 40,
   "metadata": {
    "collapsed": false
   },
   "outputs": [
    {
     "data": {
      "text/html": [
       "<div>\n",
       "<table border=\"1\" class=\"dataframe\">\n",
       "  <thead>\n",
       "    <tr style=\"text-align: right;\">\n",
       "      <th></th>\n",
       "      <th>f_count</th>\n",
       "      <th>m_count</th>\n",
       "    </tr>\n",
       "    <tr>\n",
       "      <th>condensed_section</th>\n",
       "      <th></th>\n",
       "      <th></th>\n",
       "    </tr>\n",
       "  </thead>\n",
       "  <tbody>\n",
       "    <tr>\n",
       "      <th>entertainment</th>\n",
       "      <td>3.590985</td>\n",
       "      <td>10.497496</td>\n",
       "    </tr>\n",
       "    <tr>\n",
       "      <th>politics</th>\n",
       "      <td>1.786932</td>\n",
       "      <td>10.514205</td>\n",
       "    </tr>\n",
       "    <tr>\n",
       "      <th>sports</th>\n",
       "      <td>1.758621</td>\n",
       "      <td>15.737069</td>\n",
       "    </tr>\n",
       "    <tr>\n",
       "      <th>education</th>\n",
       "      <td>1.692308</td>\n",
       "      <td>8.846154</td>\n",
       "    </tr>\n",
       "    <tr>\n",
       "      <th>other</th>\n",
       "      <td>1.407960</td>\n",
       "      <td>9.134328</td>\n",
       "    </tr>\n",
       "    <tr>\n",
       "      <th>world</th>\n",
       "      <td>1.175589</td>\n",
       "      <td>5.083512</td>\n",
       "    </tr>\n",
       "    <tr>\n",
       "      <th>business</th>\n",
       "      <td>1.097087</td>\n",
       "      <td>6.087379</td>\n",
       "    </tr>\n",
       "    <tr>\n",
       "      <th>sci_health</th>\n",
       "      <td>1.082251</td>\n",
       "      <td>3.376623</td>\n",
       "    </tr>\n",
       "    <tr>\n",
       "      <th>opinion</th>\n",
       "      <td>0.973684</td>\n",
       "      <td>6.172249</td>\n",
       "    </tr>\n",
       "    <tr>\n",
       "      <th>technology</th>\n",
       "      <td>0.333333</td>\n",
       "      <td>3.404040</td>\n",
       "    </tr>\n",
       "  </tbody>\n",
       "</table>\n",
       "</div>"
      ],
      "text/plain": [
       "                    f_count    m_count\n",
       "condensed_section                     \n",
       "entertainment      3.590985  10.497496\n",
       "politics           1.786932  10.514205\n",
       "sports             1.758621  15.737069\n",
       "education          1.692308   8.846154\n",
       "other              1.407960   9.134328\n",
       "world              1.175589   5.083512\n",
       "business           1.097087   6.087379\n",
       "sci_health         1.082251   3.376623\n",
       "opinion            0.973684   6.172249\n",
       "technology         0.333333   3.404040"
      ]
     },
     "execution_count": 40,
     "metadata": {},
     "output_type": "execute_result"
    }
   ],
   "source": [
    "data.pivot_table(index = ['condensed_section'], values = ['f_count', 'm_count']).sort_values('f_count', ascending = False)"
   ]
  }
 ],
 "metadata": {
  "kernelspec": {
   "display_name": "Python [default]",
   "language": "python",
   "name": "python2"
  },
  "language_info": {
   "codemirror_mode": {
    "name": "ipython",
    "version": 2
   },
   "file_extension": ".py",
   "mimetype": "text/x-python",
   "name": "python",
   "nbconvert_exporter": "python",
   "pygments_lexer": "ipython2",
   "version": "2.7.12"
  }
 },
 "nbformat": 4,
 "nbformat_minor": 1
}

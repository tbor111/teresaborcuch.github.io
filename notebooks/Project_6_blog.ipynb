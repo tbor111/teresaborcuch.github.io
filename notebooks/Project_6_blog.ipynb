{
 "cells": [
  {
   "cell_type": "markdown",
   "metadata": {},
   "source": [
    "# Summary\n",
    "\n",
    "This analysis will use tree models to investigate which factors lead to movies earning high ratings on IMDb. The dataset contains 860 movies, web-scraped from the [New York Times list of 1000 best movies](http://www.nytimes.com/ref/movies/1000best.html). I then queried from the [Open Movie Database](http://omdbapi.com/)  for details such as directors, actors, release year, genre, runtime, a brief plot synopsis, and IMDb rating. I used sklearn's CountVectorizer to extract the most common bigrams from plot summaries, genre descriptions, and director and actor lists, and selected relevant features for a decision tree using recursive feature elimination."
   ]
  },
  {
   "cell_type": "code",
   "execution_count": 1,
   "metadata": {
    "collapsed": false
   },
   "outputs": [
    {
     "name": "stderr",
     "output_type": "stream",
     "text": [
      "/Users/teresaborcuch/anaconda2/lib/python2.7/site-packages/matplotlib/font_manager.py:273: UserWarning: Matplotlib is building the font cache using fc-list. This may take a moment.\n",
      "  warnings.warn('Matplotlib is building the font cache using fc-list. This may take a moment.')\n"
     ]
    }
   ],
   "source": [
    "# Imports at the top\n",
    "import pandas as pd\n",
    "import numpy as np\n",
    "import matplotlib.pyplot as plt\n",
    "%matplotlib inline\n",
    "from sklearn.feature_extraction.text import CountVectorizer\n",
    "import nltk\n",
    "from sklearn.metrics import accuracy_score\n",
    "from sklearn.metrics import confusion_matrix\n",
    "from sklearn.grid_search import GridSearchCV\n",
    "from sklearn.cross_validation import KFold, train_test_split, cross_val_score\n",
    "from sklearn.feature_selection import RFECV, SelectKBest, f_regression\n",
    "from sklearn import metrics\n",
    "from sklearn.tree import DecisionTreeRegressor\n",
    "from sklearn import preprocessing\n",
    "from sklearn.pipeline import make_pipeline\n",
    "from sklearn.ensemble import RandomForestRegressor, BaggingRegressor, AdaBoostRegressor, GradientBoostingRegressor"
   ]
  },
  {
   "cell_type": "markdown",
   "metadata": {},
   "source": [
    "# Data Selection and Cleaning\n",
    "Originally, I considered utilizing [IMDb's top 250 movies](http://www.imdb.com/chart/top) for analysis, but realized that 250 titles wasn't quite enough, and that these were all relatively high-ranking titles anyways. In order to broaden the range of ratings I could train a model on, I needed more titles, and a wider range of stars. I found the NYT list, and scraped the titles using the Beautiful Soup library. I then got all movie details from the OMDB API, and created a Pandas DataFrame. The awards, actors, directors, and genres columns are lists within each cell, making it difficult to extract features. So far, the only thing I did was to create a 'won_Oscar' column containing a 1 if the awards column contained the phrase \"won -- Oscar\" and a 0 if it didn't, and drop any titles without an IMDb rating (leaving 860 titles to work with). Everything else is in its original format and will require some cleaning. (Here imported from csv.)"
   ]
  },
  {
   "cell_type": "code",
   "execution_count": 2,
   "metadata": {
    "collapsed": true
   },
   "outputs": [],
   "source": [
    "movies = pd.read_csv('/Users/teresaborcuch/Desktop/movies.csv')\n",
    "del movies['Unnamed: 0']"
   ]
  },
  {
   "cell_type": "code",
   "execution_count": 3,
   "metadata": {
    "collapsed": false,
    "scrolled": true
   },
   "outputs": [
    {
     "data": {
      "text/html": [
       "<div>\n",
       "<table border=\"1\" class=\"dataframe\">\n",
       "  <thead>\n",
       "    <tr style=\"text-align: right;\">\n",
       "      <th></th>\n",
       "      <th>Actors</th>\n",
       "      <th>Awards</th>\n",
       "      <th>Country</th>\n",
       "      <th>Director</th>\n",
       "      <th>Genre</th>\n",
       "      <th>Plot</th>\n",
       "      <th>Rated</th>\n",
       "      <th>Runtime</th>\n",
       "      <th>Title</th>\n",
       "      <th>Type</th>\n",
       "      <th>Writer</th>\n",
       "      <th>Year</th>\n",
       "      <th>imdbID</th>\n",
       "      <th>imdbRating</th>\n",
       "      <th>imdbVotes</th>\n",
       "      <th>won_Oscar</th>\n",
       "    </tr>\n",
       "  </thead>\n",
       "  <tbody>\n",
       "    <tr>\n",
       "      <th>0</th>\n",
       "      <td>Henri Marchand, Raymond Cordy, Rolla France, P...</td>\n",
       "      <td>Nominated for 1 Oscar. Another 3 wins.</td>\n",
       "      <td>France</td>\n",
       "      <td>René Clair</td>\n",
       "      <td>Comedy, Musical</td>\n",
       "      <td>Seeking better life, two convicts escape from ...</td>\n",
       "      <td>APPROVED</td>\n",
       "      <td>97.0</td>\n",
       "      <td>À Nous la Liberté</td>\n",
       "      <td>movie</td>\n",
       "      <td>René Clair (story and screenplay)</td>\n",
       "      <td>1931</td>\n",
       "      <td>tt0022599</td>\n",
       "      <td>7.7</td>\n",
       "      <td>3102</td>\n",
       "      <td>0</td>\n",
       "    </tr>\n",
       "    <tr>\n",
       "      <th>1</th>\n",
       "      <td>Jack Nicholson, Kathy Bates, Hope Davis, Dermo...</td>\n",
       "      <td>Nominated for 2 Oscars. Another 24 wins &amp; 68 n...</td>\n",
       "      <td>USA</td>\n",
       "      <td>Alexander Payne</td>\n",
       "      <td>Comedy, Drama</td>\n",
       "      <td>A man upon retirement embarks on a journey to ...</td>\n",
       "      <td>R</td>\n",
       "      <td>125.0</td>\n",
       "      <td>About Schmidt</td>\n",
       "      <td>movie</td>\n",
       "      <td>Louis Begley (novel), Alexander Payne (screenp...</td>\n",
       "      <td>2002</td>\n",
       "      <td>tt0257360</td>\n",
       "      <td>7.2</td>\n",
       "      <td>109332</td>\n",
       "      <td>0</td>\n",
       "    </tr>\n",
       "    <tr>\n",
       "      <th>2</th>\n",
       "      <td>Paul Newman, Sally Field, Bob Balaban, Melinda...</td>\n",
       "      <td>Nominated for 3 Oscars. Another 3 wins &amp; 5 nom...</td>\n",
       "      <td>USA</td>\n",
       "      <td>Sydney Pollack</td>\n",
       "      <td>Drama, Romance, Thriller</td>\n",
       "      <td>When a prosecutor leaks a false story that a l...</td>\n",
       "      <td>PG</td>\n",
       "      <td>116.0</td>\n",
       "      <td>Absence of Malice</td>\n",
       "      <td>movie</td>\n",
       "      <td>Kurt Luedtke</td>\n",
       "      <td>1981</td>\n",
       "      <td>tt0081974</td>\n",
       "      <td>6.9</td>\n",
       "      <td>9474</td>\n",
       "      <td>0</td>\n",
       "    </tr>\n",
       "    <tr>\n",
       "      <th>3</th>\n",
       "      <td>Elias Koteas, Arsinée Khanjian, Maury Chaykin,...</td>\n",
       "      <td>5 wins &amp; 2 nominations.</td>\n",
       "      <td>Canada</td>\n",
       "      <td>Atom Egoyan</td>\n",
       "      <td>Comedy, Drama</td>\n",
       "      <td>A reflection about what makes everyone's life ...</td>\n",
       "      <td>R</td>\n",
       "      <td>102.0</td>\n",
       "      <td>The Adjuster</td>\n",
       "      <td>movie</td>\n",
       "      <td>Atom Egoyan</td>\n",
       "      <td>1991</td>\n",
       "      <td>tt0101273</td>\n",
       "      <td>6.8</td>\n",
       "      <td>2575</td>\n",
       "      <td>0</td>\n",
       "    </tr>\n",
       "    <tr>\n",
       "      <th>4</th>\n",
       "      <td>Errol Flynn, Olivia de Havilland, Basil Rathbo...</td>\n",
       "      <td>Won 3 Oscars. Another 2 wins &amp; 2 nominations.</td>\n",
       "      <td>USA</td>\n",
       "      <td>Michael Curtiz, William Keighley</td>\n",
       "      <td>Action, Adventure, Romance</td>\n",
       "      <td>When Prince John and the Norman Lords begin op...</td>\n",
       "      <td>PG</td>\n",
       "      <td>102.0</td>\n",
       "      <td>The Adventures of Robin Hood</td>\n",
       "      <td>movie</td>\n",
       "      <td>Norman Reilly Raine (original screenplay: base...</td>\n",
       "      <td>1938</td>\n",
       "      <td>tt0029843</td>\n",
       "      <td>8.0</td>\n",
       "      <td>39439</td>\n",
       "      <td>1</td>\n",
       "    </tr>\n",
       "  </tbody>\n",
       "</table>\n",
       "</div>"
      ],
      "text/plain": [
       "                                              Actors  \\\n",
       "0  Henri Marchand, Raymond Cordy, Rolla France, P...   \n",
       "1  Jack Nicholson, Kathy Bates, Hope Davis, Dermo...   \n",
       "2  Paul Newman, Sally Field, Bob Balaban, Melinda...   \n",
       "3  Elias Koteas, Arsinée Khanjian, Maury Chaykin,...   \n",
       "4  Errol Flynn, Olivia de Havilland, Basil Rathbo...   \n",
       "\n",
       "                                              Awards Country  \\\n",
       "0             Nominated for 1 Oscar. Another 3 wins.  France   \n",
       "1  Nominated for 2 Oscars. Another 24 wins & 68 n...     USA   \n",
       "2  Nominated for 3 Oscars. Another 3 wins & 5 nom...     USA   \n",
       "3                            5 wins & 2 nominations.  Canada   \n",
       "4      Won 3 Oscars. Another 2 wins & 2 nominations.     USA   \n",
       "\n",
       "                           Director                       Genre  \\\n",
       "0                        René Clair             Comedy, Musical   \n",
       "1                   Alexander Payne               Comedy, Drama   \n",
       "2                    Sydney Pollack    Drama, Romance, Thriller   \n",
       "3                       Atom Egoyan               Comedy, Drama   \n",
       "4  Michael Curtiz, William Keighley  Action, Adventure, Romance   \n",
       "\n",
       "                                                Plot     Rated  Runtime  \\\n",
       "0  Seeking better life, two convicts escape from ...  APPROVED     97.0   \n",
       "1  A man upon retirement embarks on a journey to ...         R    125.0   \n",
       "2  When a prosecutor leaks a false story that a l...        PG    116.0   \n",
       "3  A reflection about what makes everyone's life ...         R    102.0   \n",
       "4  When Prince John and the Norman Lords begin op...        PG    102.0   \n",
       "\n",
       "                          Title   Type  \\\n",
       "0             À Nous la Liberté  movie   \n",
       "1                 About Schmidt  movie   \n",
       "2             Absence of Malice  movie   \n",
       "3                  The Adjuster  movie   \n",
       "4  The Adventures of Robin Hood  movie   \n",
       "\n",
       "                                              Writer  Year     imdbID  \\\n",
       "0                  René Clair (story and screenplay)  1931  tt0022599   \n",
       "1  Louis Begley (novel), Alexander Payne (screenp...  2002  tt0257360   \n",
       "2                                       Kurt Luedtke  1981  tt0081974   \n",
       "3                                        Atom Egoyan  1991  tt0101273   \n",
       "4  Norman Reilly Raine (original screenplay: base...  1938  tt0029843   \n",
       "\n",
       "   imdbRating  imdbVotes  won_Oscar  \n",
       "0         7.7       3102          0  \n",
       "1         7.2     109332          0  \n",
       "2         6.9       9474          0  \n",
       "3         6.8       2575          0  \n",
       "4         8.0      39439          1  "
      ]
     },
     "execution_count": 3,
     "metadata": {},
     "output_type": "execute_result"
    }
   ],
   "source": [
    "movies.head()"
   ]
  },
  {
   "cell_type": "code",
   "execution_count": 4,
   "metadata": {
    "collapsed": true
   },
   "outputs": [],
   "source": [
    "# Drop all entries without a runtime and reindex\n",
    "# Movies without an imdb rating have already been dropped\n",
    "movies = movies.dropna(subset = ['Runtime'])\n",
    "movies = movies.reset_index(drop = True)"
   ]
  },
  {
   "cell_type": "code",
   "execution_count": 5,
   "metadata": {
    "collapsed": true
   },
   "outputs": [],
   "source": [
    "# Make relevant features into strings\n",
    "cols = ['Actors','Country','Director','Genre','Plot','Title','Writer']\n",
    "for col in cols:\n",
    "    movies[col] = movies[col].astype(str)"
   ]
  },
  {
   "cell_type": "code",
   "execution_count": 6,
   "metadata": {
    "collapsed": true
   },
   "outputs": [],
   "source": [
    "# Make year an integer\n",
    "clean_years = []\n",
    "for year in movies['Year']:\n",
    "    clean_year = int(year.replace('\\xe2\\x80\\x93','').replace('2017','').replace('19851989','1985').replace('19721983','1972').replace('19671968','1967'))\n",
    "    clean_years.append(clean_year)\n",
    "movies['Year'] = clean_years"
   ]
  },
  {
   "cell_type": "code",
   "execution_count": 7,
   "metadata": {
    "collapsed": true
   },
   "outputs": [],
   "source": [
    "# make imdb Votes an int\n",
    "votes = []\n",
    "for vote in movies['imdbVotes']:\n",
    "    str_vote = int(str(vote).replace(',',''))\n",
    "    votes.append(str_vote)"
   ]
  },
  {
   "cell_type": "code",
   "execution_count": 8,
   "metadata": {
    "collapsed": true
   },
   "outputs": [],
   "source": [
    "# put Runtime in minutes\n",
    "runtimes = []\n",
    "for i, row in movies.iterrows():\n",
    "    runtime = row[7]\n",
    "    try:\n",
    "        runtime = int(runtime.replace(' min', ''))\n",
    "    except AttributeError:\n",
    "        pass\n",
    "    runtimes.append(runtime)\n",
    "\n",
    "movies['Runtime'] = runtimes"
   ]
  },
  {
   "cell_type": "markdown",
   "metadata": {},
   "source": [
    "# Exploratory Data Analysis\n",
    "Here, I'll plot the distributions of all the numerical variables in the dataset. It seems year is just about normally distributed, runtime and IMDb votes skew right, and IMDb rating skews left."
   ]
  },
  {
   "cell_type": "code",
   "execution_count": 39,
   "metadata": {
    "collapsed": false
   },
   "outputs": [
    {
     "data": {
      "text/plain": [
       "count    860.000000\n",
       "mean       7.568605\n",
       "std        0.591217\n",
       "min        4.200000\n",
       "25%        7.300000\n",
       "50%        7.600000\n",
       "75%        8.000000\n",
       "max        9.200000\n",
       "Name: imdbRating, dtype: float64"
      ]
     },
     "execution_count": 39,
     "metadata": {},
     "output_type": "execute_result"
    }
   ],
   "source": [
    "movies['imdbRating'].describe()"
   ]
  },
  {
   "cell_type": "code",
   "execution_count": 37,
   "metadata": {
    "collapsed": false
   },
   "outputs": [
    {
     "data": {
      "image/png": "[encoded data removed]",
      "text/plain": [
       "<matplotlib.figure.Figure at 0x11df9ca50>"
      ]
     },
     "metadata": {},
     "output_type": "display_data"
    }
   ],
   "source": [
    "int_cols = ['Year','Runtime','imdbRating']\n",
    "\n",
    "fig = plt.figure(figsize = (14,5))\n",
    "count = 1\n",
    "for col in int_cols:\n",
    "    ax = fig.add_subplot(1,4,count)\n",
    "    ax.hist(movies[col])\n",
    "    ax.set_xlabel(col)\n",
    "\n",
    "    count +=1\n",
    "ax = fig.add_subplot(1,4,4)\n",
    "ax.hist(movies['imdbVotes'])\n",
    "ax.set_xlabel('IMDb Votes')\n",
    "ax.set_xticks(range(0,1500000,250000))\n",
    "ax.set_xticklabels(['0','250k','500k','750k','1m','1.25m'])\n",
    "plt.tight_layout()\n",
    "plt.show()"
   ]
  },
  {
   "cell_type": "markdown",
   "metadata": {},
   "source": [
    "# Natural Language Processing\n",
    "\n",
    "Since each movie comes with lists of actors, directors and genre classifications, as well as a brief plot synopsis, I'll mine this free-form text data to extract frequently used bigrams."
   ]
  },
  {
   "cell_type": "code",
   "execution_count": 40,
   "metadata": {
    "collapsed": true
   },
   "outputs": [],
   "source": [
    "# combine hyphenated genres into one word\n",
    "genres = []\n",
    "for genre in movies['Genre']:\n",
    "    genre = genre.replace('Sci-Fi','SciFi').replace('Film-Noir','FilmNoir')\n",
    "    genres.append(genre)\n",
    "movies['Genre'] = genres"
   ]
  },
  {
   "cell_type": "code",
   "execution_count": 41,
   "metadata": {
    "collapsed": false
   },
   "outputs": [],
   "source": [
    "# vectorize 1-grams and 2-grams for genre\n",
    "gen_vec = CountVectorizer(ngram_range = (1,2), max_features = 20, strip_accents = 'ascii')\n",
    "gen_vec.fit(movies['Genre'])\n",
    "gen_bigrams = pd.DataFrame(gen_vec.transform(movies['Genre']).todense(),\n",
    "                      columns = gen_vec.get_feature_names())"
   ]
  },
  {
   "cell_type": "code",
   "execution_count": 42,
   "metadata": {
    "collapsed": false
   },
   "outputs": [
    {
     "data": {
      "text/plain": [
       "drama              650\n",
       "comedy             251\n",
       "romance            229\n",
       "drama romance      153\n",
       "crime              144\n",
       "comedy drama       127\n",
       "crime drama        103\n",
       "thriller            77\n",
       "war                 74\n",
       "adventure           65\n",
       "biography           64\n",
       "mystery             54\n",
       "history             49\n",
       "action              48\n",
       "biography drama     47\n",
       "drama history       45\n",
       "drama war           42\n",
       "musical             32\n",
       "fantasy             29\n",
       "comedy romance      29\n",
       "dtype: int64"
      ]
     },
     "execution_count": 42,
     "metadata": {},
     "output_type": "execute_result"
    }
   ],
   "source": [
    "# Look at top 20 genre bigrams\n",
    "gen_bigrams.sum(axis=0).sort_values(ascending = False).head(20)"
   ]
  },
  {
   "cell_type": "code",
   "execution_count": 43,
   "metadata": {
    "collapsed": true
   },
   "outputs": [],
   "source": [
    "# vectorize 2-grams for plot\n",
    "plot_vec = CountVectorizer(ngram_range=(2,2), stop_words = 'english', max_features = 23, strip_accents = 'ascii')\n",
    "plot_vec.fit(movies['Plot'])\n",
    "plot_bigrams = pd.DataFrame(plot_vec.transform(movies['Plot']).todense(),\n",
    "                      columns = plot_vec.get_feature_names())"
   ]
  },
  {
   "cell_type": "code",
   "execution_count": 44,
   "metadata": {
    "collapsed": false
   },
   "outputs": [],
   "source": [
    "# selectively eliminate some meaningless ones\n",
    "del plot_bigrams['war ii']\n",
    "del plot_bigrams['york city']\n",
    "del plot_bigrams['fall love']"
   ]
  },
  {
   "cell_type": "code",
   "execution_count": 45,
   "metadata": {
    "collapsed": false
   },
   "outputs": [
    {
     "data": {
      "text/plain": [
       "world war            32\n",
       "new york             24\n",
       "falls love           20\n",
       "year old             17\n",
       "young man            13\n",
       "young woman          12\n",
       "small town           11\n",
       "vietnam war           8\n",
       "high school           7\n",
       "middle aged           7\n",
       "civil war             7\n",
       "los angeles           6\n",
       "private detective     6\n",
       "old friend            5\n",
       "san francisco         5\n",
       "married couple        5\n",
       "small time            5\n",
       "teenage girl          5\n",
       "falling love          5\n",
       "return home           4\n",
       "dtype: int64"
      ]
     },
     "execution_count": 45,
     "metadata": {},
     "output_type": "execute_result"
    }
   ],
   "source": [
    "# Look at top 20 plot bigrams\n",
    "plot_bigrams.sum(axis=0).sort_values(ascending = False).head(20)"
   ]
  },
  {
   "cell_type": "markdown",
   "metadata": {},
   "source": [
    "These are the top 20 2-words plot themes to appear in the NYT top 1000 movies. Wars, youth, love, marriage, and cities seem to be common themes."
   ]
  },
  {
   "cell_type": "code",
   "execution_count": 46,
   "metadata": {
    "collapsed": false
   },
   "outputs": [],
   "source": [
    "# Make 2-3-grams for actors\n",
    "act_vec = CountVectorizer(ngram_range=(2,3), max_features = 22, strip_accents = 'ascii')\n",
    "act_vec.fit(movies['Actors'])\n",
    "actor_bigrams = pd.DataFrame(act_vec.transform(movies['Actors']).todense(),\n",
    "                      columns = act_vec.get_feature_names())"
   ]
  },
  {
   "cell_type": "code",
   "execution_count": 47,
   "metadata": {
    "collapsed": true
   },
   "outputs": [],
   "source": [
    "# eliminate duplicates for actors\n",
    "del actor_bigrams['de niro']\n",
    "del actor_bigrams['robert de']"
   ]
  },
  {
   "cell_type": "code",
   "execution_count": 48,
   "metadata": {
    "collapsed": false
   },
   "outputs": [
    {
     "data": {
      "text/plain": [
       "burt lancaster       11\n",
       "cary grant           10\n",
       "james stewart         9\n",
       "dustin hoffman        9\n",
       "gary cooper           9\n",
       "john wayne            9\n",
       "humphrey bogart       9\n",
       "william holden        8\n",
       "jack nicholson        8\n",
       "james mason           8\n",
       "marlon brando         8\n",
       "paul newman           8\n",
       "bette davis           8\n",
       "robert de niro        7\n",
       "jean arthur           7\n",
       "jean pierre           7\n",
       "henry fonda           7\n",
       "harvey keitel         7\n",
       "katharine hepburn     7\n",
       "kirk douglas          7\n",
       "dtype: int64"
      ]
     },
     "execution_count": 48,
     "metadata": {},
     "output_type": "execute_result"
    }
   ],
   "source": [
    "# Look at top 20 actor bigrams\n",
    "actor_bigrams.sum(axis=0).sort_values(ascending = False)"
   ]
  },
  {
   "cell_type": "markdown",
   "metadata": {},
   "source": [
    "These are the most frequently occuring 20 actors to appear in the NYT top 1000 movies."
   ]
  },
  {
   "cell_type": "code",
   "execution_count": 49,
   "metadata": {
    "collapsed": true
   },
   "outputs": [],
   "source": [
    "# Make 2-3-grams for directors\n",
    "dir_vec = CountVectorizer(ngram_range=(2,3), strip_accents = 'ascii')\n",
    "dir_vec.fit(movies['Actors'])\n",
    "director_bigrams = pd.DataFrame(dir_vec.transform(movies['Director']).todense(),\n",
    "                      columns = dir_vec.get_feature_names())"
   ]
  },
  {
   "cell_type": "code",
   "execution_count": 50,
   "metadata": {
    "collapsed": false
   },
   "outputs": [],
   "source": [
    "del director_bigrams['vittorio de']\n",
    "del director_bigrams['de sica']"
   ]
  },
  {
   "cell_type": "code",
   "execution_count": 51,
   "metadata": {
    "collapsed": false
   },
   "outputs": [
    {
     "data": {
      "text/plain": [
       "francois truffaut    10\n",
       "john huston           9\n",
       "woody allen           7\n",
       "vittorio de sica      5\n",
       "sydney pollack        4\n",
       "otto preminger        4\n",
       "fritz lang            3\n",
       "clint eastwood        3\n",
       "kenneth branagh       3\n",
       "jules dassin          3\n",
       "dtype: int64"
      ]
     },
     "execution_count": 51,
     "metadata": {},
     "output_type": "execute_result"
    }
   ],
   "source": [
    "# Look at top 10 director bigrams\n",
    "director_bigrams.sum(axis=0).sort_values(ascending = False).head(10)"
   ]
  },
  {
   "cell_type": "code",
   "execution_count": 52,
   "metadata": {
    "collapsed": false
   },
   "outputs": [],
   "source": [
    "director_bigrams = director_bigrams[['francois truffaut', 'john huston', 'woody allen', 'vittorio de sica',\n",
    "                                    'sydney pollack', 'otto preminger', 'kenneth branagh', 'jules dassin', \n",
    "                                    'fritz lang', 'clint eastwood']]"
   ]
  },
  {
   "cell_type": "code",
   "execution_count": 53,
   "metadata": {
    "collapsed": true
   },
   "outputs": [],
   "source": [
    "# combine all bigrams into one dataframe\n",
    "bigrams = pd.concat([actor_bigrams, plot_bigrams, gen_bigrams], axis = 1)"
   ]
  },
  {
   "cell_type": "markdown",
   "metadata": {},
   "source": [
    "# Assembling Target and Predictor Matrices"
   ]
  },
  {
   "cell_type": "code",
   "execution_count": 54,
   "metadata": {
    "collapsed": true
   },
   "outputs": [],
   "source": [
    "# scale year, imdb votes and runtime\n",
    "data = movies[['Runtime','Year','imdbVotes']]\n",
    "scaled_data = preprocessing.scale(data)\n",
    "scaled_data = pd.DataFrame(scaled_data, columns = data.columns)"
   ]
  },
  {
   "cell_type": "code",
   "execution_count": 55,
   "metadata": {
    "collapsed": false
   },
   "outputs": [
    {
     "data": {
      "text/plain": [
       "(860, 4)"
      ]
     },
     "execution_count": 55,
     "metadata": {},
     "output_type": "execute_result"
    }
   ],
   "source": [
    "# combine the numerical variables with the won_Oscar column\n",
    "features = pd.concat([scaled_data, movies['won_Oscar']], axis = 1)\n",
    "features.shape"
   ]
  },
  {
   "cell_type": "code",
   "execution_count": 56,
   "metadata": {
    "collapsed": false
   },
   "outputs": [
    {
     "data": {
      "text/plain": [
       "(860, 64)"
      ]
     },
     "execution_count": 56,
     "metadata": {},
     "output_type": "execute_result"
    }
   ],
   "source": [
    "# combine with bigrams\n",
    "X = pd.concat([features, bigrams], axis = 1)\n",
    "X.shape"
   ]
  },
  {
   "cell_type": "code",
   "execution_count": 57,
   "metadata": {
    "collapsed": true
   },
   "outputs": [],
   "source": [
    "y = movies['imdbRating']"
   ]
  },
  {
   "cell_type": "markdown",
   "metadata": {},
   "source": [
    "# Feature Selection\n",
    "To narrow down the number of features to consider when building a tree, I'll use cross-validated recursive feature elimination."
   ]
  },
  {
   "cell_type": "code",
   "execution_count": 58,
   "metadata": {
    "collapsed": true
   },
   "outputs": [],
   "source": [
    "# RFECV feature selection\n",
    "rfecv = RFECV(estimator = DecisionTreeRegressor(), cv = 5, scoring = 'mean_squared_error')\n",
    "rfecv.fit(X,y)\n",
    "rfecv_cols = X.columns[rfecv.support_]"
   ]
  },
  {
   "cell_type": "code",
   "execution_count": 65,
   "metadata": {
    "collapsed": false
   },
   "outputs": [
    {
     "name": "stdout",
     "output_type": "stream",
     "text": [
      "Runtime\n",
      "Year\n",
      "imdbVotes\n",
      "won_Oscar\n",
      "katharine hepburn\n",
      "action\n",
      "comedy\n",
      "crime drama\n",
      "drama\n",
      "drama romance\n",
      "musical\n",
      "mystery\n",
      "thriller\n"
     ]
    }
   ],
   "source": [
    "# These are the 13 features selected\n",
    "for x in rfecv_cols:\n",
    "    print x"
   ]
  },
  {
   "cell_type": "code",
   "execution_count": 66,
   "metadata": {
    "collapsed": false
   },
   "outputs": [],
   "source": [
    "X_sel = X[rfecv_cols]"
   ]
  },
  {
   "cell_type": "markdown",
   "metadata": {},
   "source": [
    "# Decision Trees\n",
    "Here, I'll build several types of trees on a training set, use then to predict IMDb rating on a test set, and compare mean squared error to see which has the best fit."
   ]
  },
  {
   "cell_type": "code",
   "execution_count": 67,
   "metadata": {
    "collapsed": true
   },
   "outputs": [],
   "source": [
    "# make train and test sets\n",
    "X_train, X_test, y_train, y_test = train_test_split(X_sel, y, test_size = 0.3)"
   ]
  },
  {
   "cell_type": "code",
   "execution_count": 68,
   "metadata": {
    "collapsed": false
   },
   "outputs": [
    {
     "name": "stdout",
     "output_type": "stream",
     "text": [
      "MSE:  -0.284067692308\n",
      "R2:  0.0431909899402\n"
     ]
    }
   ],
   "source": [
    "# fit basic decision tree\n",
    "scores = {}\n",
    "dt = DecisionTreeRegressor()\n",
    "dt.fit(X_train, y_train)\n",
    "mse = np.mean(cross_val_score(dt, X_test, y_test, cv = 10, scoring = \"mean_squared_error\"))\n",
    "scores['dtr'] = abs(mse)\n",
    "print \"MSE: \", mse\n",
    "print \"R2: \",  np.mean(cross_val_score(dt, X_test, y_test, cv = 10))"
   ]
  },
  {
   "cell_type": "code",
   "execution_count": 69,
   "metadata": {
    "collapsed": false
   },
   "outputs": [
    {
     "name": "stdout",
     "output_type": "stream",
     "text": [
      "MSE:  -0.194712846154\n",
      "R2:  0.410342918371\n"
     ]
    }
   ],
   "source": [
    "#fit a bagging tree\n",
    "bdt = BaggingRegressor()\n",
    "bdt.fit(X_train, y_train)\n",
    "mse = np.mean(cross_val_score(bdt, X_test, y_test, cv = 10, scoring = 'mean_squared_error'))\n",
    "scores['bdt'] = abs(mse)\n",
    "print \"MSE: \", mse\n",
    "print \"R2: \",  np.mean(cross_val_score(bdt, X_test, y_test, cv = 10))"
   ]
  },
  {
   "cell_type": "code",
   "execution_count": 70,
   "metadata": {
    "collapsed": false
   },
   "outputs": [
    {
     "name": "stdout",
     "output_type": "stream",
     "text": [
      "MSE:  -0.203966795077\n",
      "R2:  0.428464907877\n"
     ]
    }
   ],
   "source": [
    "# try a gridsearch for bagging tree\n",
    "params = {'n_estimators': [5,10,25,100],\n",
    "          'max_samples': [0.25,0.5,0.75,1.0],\n",
    "          'max_features': [0.25,0.5,0.75,1.0]}\n",
    "\n",
    "gsbt = GridSearchCV(BaggingRegressor(),\n",
    "                    params, n_jobs=-1,\n",
    "                    cv=KFold(len(y_train), n_folds=3, shuffle=True),\n",
    "                   scoring = 'mean_squared_error')\n",
    "gsbt.fit(X_train, y_train)\n",
    "mse = np.mean(cross_val_score(gsbt.best_estimator_, X_test, y_test, cv = 10, scoring = 'mean_squared_error'))\n",
    "scores['gsbt'] = abs(mse)\n",
    "print \"MSE: \", mse\n",
    "print \"R2: \", np.mean(cross_val_score(gsbt.best_estimator_, X_test, y_test, cv = 10))"
   ]
  },
  {
   "cell_type": "code",
   "execution_count": 71,
   "metadata": {
    "collapsed": false
   },
   "outputs": [
    {
     "name": "stdout",
     "output_type": "stream",
     "text": [
      "MSE:  -0.163314810746\n",
      "R2:  0.505127595883\n"
     ]
    }
   ],
   "source": [
    "# fit a gradient boosting regressor\n",
    "gbr = GradientBoostingRegressor()\n",
    "gbr.fit(X_train, y_train)\n",
    "mse = np.mean(cross_val_score(gbr, X_test, y_test, cv = 10,scoring = 'mean_squared_error'))\n",
    "scores['gbr'] = abs(mse)\n",
    "print \"MSE: \", mse\n",
    "print \"R2: \", np.mean(cross_val_score(gbr, X_test, y_test, cv = 10))"
   ]
  },
  {
   "cell_type": "code",
   "execution_count": 72,
   "metadata": {
    "collapsed": false
   },
   "outputs": [
    {
     "name": "stdout",
     "output_type": "stream",
     "text": [
      "MSE:  -0.166590262918\n",
      "R2:  0.500032505244\n"
     ]
    }
   ],
   "source": [
    "# try a gridsearch for gradient boosting regressor\n",
    "params = {'n_estimators': [5,10,25,100,200,500],\n",
    "          'loss': ['ls','lad','huber','quantile'],\n",
    "          'max_depth': [None, 3, 5, 10],\n",
    "          'max_features': [0.25,0.5,0.75,1.0]}\n",
    "\n",
    "gsgbr = GridSearchCV(GradientBoostingRegressor(),\n",
    "                    params, n_jobs=-1,\n",
    "                    cv=KFold(len(y_train), n_folds=3, shuffle=True),\n",
    "                   scoring = 'mean_squared_error')\n",
    "gsgbr.fit(X_train, y_train)\n",
    "mse = np.mean(cross_val_score(gsgbr.best_estimator_, X_test, y_test, cv = 10, scoring = 'mean_squared_error'))\n",
    "scores['gsgbr'] = abs(mse)\n",
    "print \"MSE: \", mse\n",
    "print \"R2: \", np.mean(cross_val_score(gsgbr.best_estimator_, X_test, y_test, cv = 10))"
   ]
  },
  {
   "cell_type": "code",
   "execution_count": 73,
   "metadata": {
    "collapsed": false
   },
   "outputs": [
    {
     "name": "stdout",
     "output_type": "stream",
     "text": [
      "MSE:  -0.238394550709\n",
      "R2:  0.29080789357\n"
     ]
    }
   ],
   "source": [
    "# adaboost regressor\n",
    "abdt = AdaBoostRegressor()\n",
    "abdt.fit(X_train, y_train)\n",
    "mse = np.mean(cross_val_score(abdt, X_test, y_test, cv = 10, scoring = 'mean_squared_error'))\n",
    "scores['abdt'] = abs(mse)\n",
    "print \"MSE: \", mse\n",
    "print \"R2: \", np.mean(cross_val_score(abdt, X_test, y_test, cv = 10))"
   ]
  },
  {
   "cell_type": "code",
   "execution_count": 74,
   "metadata": {
    "collapsed": false
   },
   "outputs": [
    {
     "name": "stdout",
     "output_type": "stream",
     "text": [
      "MSE:  -0.231363849408\n",
      "R2:  0.250934954671\n"
     ]
    }
   ],
   "source": [
    "# gridsearch adaboost\n",
    "params = {'n_estimators': [5,10,25,100,200,500],\n",
    "          'loss': ['linear','square','exponential'],\n",
    "          'learning_rate': [0.25,0.5,0.75,1.0]}\n",
    "\n",
    "gsab = GridSearchCV(AdaBoostRegressor(),\n",
    "                    params, n_jobs=-1,\n",
    "                    cv=KFold(len(y_train), n_folds=3, shuffle=True),\n",
    "                   scoring = 'mean_squared_error')\n",
    "gsab.fit(X_train, y_train)\n",
    "mse = np.mean(cross_val_score(gsab.best_estimator_, X_test, y_test, cv = 10, scoring = 'mean_squared_error'))\n",
    "scores['gsab'] = abs(mse)\n",
    "print \"MSE: \", mse\n",
    "print \"R2: \", np.mean(cross_val_score(gsab.best_estimator_, X_test, y_test, cv = 10))"
   ]
  },
  {
   "cell_type": "code",
   "execution_count": 75,
   "metadata": {
    "collapsed": false
   },
   "outputs": [
    {
     "name": "stdout",
     "output_type": "stream",
     "text": [
      "MSE:  -0.182543569231\n",
      "R2:  0.351731764199\n"
     ]
    }
   ],
   "source": [
    "# random forests\n",
    "rfr = RandomForestRegressor()\n",
    "rfr.fit(X_train, y_train)\n",
    "mse = np.mean(cross_val_score(rfr, X_test, y_test, cv = 10, scoring = 'mean_squared_error'))\n",
    "scores['rfr'] = abs(mse)\n",
    "print \"MSE: \", mse\n",
    "print \"R2: \", np.mean(cross_val_score(rfr, X_test, y_test, cv = 10))"
   ]
  },
  {
   "cell_type": "code",
   "execution_count": 76,
   "metadata": {
    "collapsed": false
   },
   "outputs": [
    {
     "name": "stdout",
     "output_type": "stream",
     "text": [
      "MSE:  -0.204349475688\n",
      "R2:  0.415766355466\n"
     ]
    }
   ],
   "source": [
    "# gridsearch random forests\n",
    "params = {'n_estimators': [5,10,25,100,200,500],\n",
    "          'min_samples_split': [2, 5],\n",
    "          'min_samples_leaf': [1, 2, 3],\n",
    "          'bootstrap': [True, False]}\n",
    "\n",
    "gsrf = GridSearchCV(RandomForestRegressor(),\n",
    "                    params, n_jobs=-1,\n",
    "                    cv=KFold(len(y_train), n_folds=3, shuffle=True),\n",
    "                   scoring = 'mean_squared_error')\n",
    "gsrf.fit(X_train, y_train)\n",
    "mse = np.mean(cross_val_score(gsrf.best_estimator_, X_test, y_test, cv = 10, scoring = 'mean_squared_error'))\n",
    "scores['gsrf'] = abs(mse)\n",
    "print \"MSE: \", mse\n",
    "print \"R2: \", np.mean(cross_val_score(gsrf.best_estimator_, X_test, y_test, cv = 10))"
   ]
  },
  {
   "cell_type": "code",
   "execution_count": 77,
   "metadata": {
    "collapsed": false
   },
   "outputs": [
    {
     "data": {
      "text/plain": [
       "{'abdt': 0.23839455070852944,\n",
       " 'bdt': 0.1947128461538461,\n",
       " 'dtr': 0.2840676923076923,\n",
       " 'gbr': 0.16331481074649212,\n",
       " 'gsab': 0.23136384940809435,\n",
       " 'gsbt': 0.203966795076923,\n",
       " 'gsgbr': 0.16659026291796281,\n",
       " 'gsrf': 0.20434947568844838,\n",
       " 'rfr': 0.18254356923076909}"
      ]
     },
     "execution_count": 77,
     "metadata": {},
     "output_type": "execute_result"
    }
   ],
   "source": [
    "scores"
   ]
  },
  {
   "cell_type": "code",
   "execution_count": 114,
   "metadata": {
    "collapsed": false
   },
   "outputs": [
    {
     "data": {
      "image/png": "[encoded data removed]",
      "text/plain": [
       "<matplotlib.figure.Figure at 0x1215a4e10>"
      ]
     },
     "metadata": {},
     "output_type": "display_data"
    }
   ],
   "source": [
    "plt.bar(range(len(scores)), scores.values(), align='center')\n",
    "plt.xticks(range(len(scores)), scores.keys())\n",
    "plt.ylabel('MSE')\n",
    "plt.show()"
   ]
  },
  {
   "cell_type": "markdown",
   "metadata": {},
   "source": [
    "This graph displays the mean squared error for each model. All ensemble methods improved score from the basic decision tree regression (dtr). Gradient boosting regression trees (gsgbr and gbr) performed best, predicting IMDb rating score within 0.4 stars."
   ]
  },
  {
   "cell_type": "code",
   "execution_count": 79,
   "metadata": {
    "collapsed": false,
    "scrolled": true
   },
   "outputs": [
    {
     "data": {
      "image/png": "[encoded data removed]",
      "text/plain": [
       "<matplotlib.figure.Figure at 0x11e408b50>"
      ]
     },
     "metadata": {},
     "output_type": "display_data"
    }
   ],
   "source": [
    "# compare predictions to actual values for gridsearch bagging tree\n",
    "y_pred = gsgbr.best_estimator_.predict(X_test)\n",
    "plt.scatter(y_test, y_pred)\n",
    "plt.xlabel(\"Actual IMDB Rating\")\n",
    "plt.ylabel(\"Predicted IMDB Rating\")\n",
    "plt.show()"
   ]
  },
  {
   "cell_type": "code",
   "execution_count": 80,
   "metadata": {
    "collapsed": false
   },
   "outputs": [
    {
     "data": {
      "text/html": [
       "<div>\n",
       "<table border=\"1\" class=\"dataframe\">\n",
       "  <thead>\n",
       "    <tr style=\"text-align: right;\">\n",
       "      <th></th>\n",
       "      <th>feature</th>\n",
       "      <th>importance</th>\n",
       "    </tr>\n",
       "  </thead>\n",
       "  <tbody>\n",
       "    <tr>\n",
       "      <th>2</th>\n",
       "      <td>imdbVotes</td>\n",
       "      <td>0.317943</td>\n",
       "    </tr>\n",
       "    <tr>\n",
       "      <th>1</th>\n",
       "      <td>Year</td>\n",
       "      <td>0.297993</td>\n",
       "    </tr>\n",
       "    <tr>\n",
       "      <th>0</th>\n",
       "      <td>Runtime</td>\n",
       "      <td>0.228371</td>\n",
       "    </tr>\n",
       "    <tr>\n",
       "      <th>5</th>\n",
       "      <td>action</td>\n",
       "      <td>0.034325</td>\n",
       "    </tr>\n",
       "    <tr>\n",
       "      <th>11</th>\n",
       "      <td>mystery</td>\n",
       "      <td>0.023441</td>\n",
       "    </tr>\n",
       "    <tr>\n",
       "      <th>8</th>\n",
       "      <td>drama</td>\n",
       "      <td>0.019607</td>\n",
       "    </tr>\n",
       "    <tr>\n",
       "      <th>9</th>\n",
       "      <td>drama romance</td>\n",
       "      <td>0.015798</td>\n",
       "    </tr>\n",
       "    <tr>\n",
       "      <th>4</th>\n",
       "      <td>katharine hepburn</td>\n",
       "      <td>0.014403</td>\n",
       "    </tr>\n",
       "    <tr>\n",
       "      <th>10</th>\n",
       "      <td>musical</td>\n",
       "      <td>0.012535</td>\n",
       "    </tr>\n",
       "    <tr>\n",
       "      <th>6</th>\n",
       "      <td>comedy</td>\n",
       "      <td>0.012212</td>\n",
       "    </tr>\n",
       "    <tr>\n",
       "      <th>12</th>\n",
       "      <td>thriller</td>\n",
       "      <td>0.011311</td>\n",
       "    </tr>\n",
       "    <tr>\n",
       "      <th>3</th>\n",
       "      <td>won_Oscar</td>\n",
       "      <td>0.007006</td>\n",
       "    </tr>\n",
       "    <tr>\n",
       "      <th>7</th>\n",
       "      <td>crime drama</td>\n",
       "      <td>0.005056</td>\n",
       "    </tr>\n",
       "  </tbody>\n",
       "</table>\n",
       "</div>"
      ],
      "text/plain": [
       "              feature  importance\n",
       "2           imdbVotes    0.317943\n",
       "1                Year    0.297993\n",
       "0             Runtime    0.228371\n",
       "5              action    0.034325\n",
       "11            mystery    0.023441\n",
       "8               drama    0.019607\n",
       "9       drama romance    0.015798\n",
       "4   katharine hepburn    0.014403\n",
       "10            musical    0.012535\n",
       "6              comedy    0.012212\n",
       "12           thriller    0.011311\n",
       "3           won_Oscar    0.007006\n",
       "7         crime drama    0.005056"
      ]
     },
     "execution_count": 80,
     "metadata": {},
     "output_type": "execute_result"
    }
   ],
   "source": [
    "# which features were most important in the gridsearch gradient boosting regression\n",
    "features = pd.DataFrame(columns = ['feature','importance'])\n",
    "features['importance'] = gsgbr.best_estimator_.feature_importances_\n",
    "features['feature']= rfecv_cols\n",
    "features.sort_values('importance', ascending = False)"
   ]
  },
  {
   "cell_type": "markdown",
   "metadata": {},
   "source": [
    "The most important feature in the best-fitting model was IMDb votes, followed by year of release, and runtime. From all the initial features observed for each movie, these type of meta-features were selected above plot summaries and most actors or directors (with the exception of Katharine Hepburn), and they hold more importance in this model as well."
   ]
  }
 ],
 "metadata": {
  "anaconda-cloud": {},
  "kernelspec": {
   "display_name": "Python [default]",
   "language": "python",
   "name": "python2"
  },
  "language_info": {
   "codemirror_mode": {
    "name": "ipython",
    "version": 2
   },
   "file_extension": ".py",
   "mimetype": "text/x-python",
   "name": "python",
   "nbconvert_exporter": "python",
   "pygments_lexer": "ipython2",
   "version": "2.7.12"
  }
 },
 "nbformat": 4,
 "nbformat_minor": 1
}
